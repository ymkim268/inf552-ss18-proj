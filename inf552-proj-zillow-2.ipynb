{
 "cells": [
  {
   "cell_type": "code",
   "execution_count": 30,
   "metadata": {},
   "outputs": [],
   "source": [
    "from sklearn.datasets import make_friedman1\n",
    "from sklearn.feature_selection import RFECV\n",
    "from sklearn.svm import SVR\n",
    "\n",
    "import xgboost as xgb\n",
    "import numpy as np\n",
    "\n",
    "from sklearn.model_selection import cross_val_score\n",
    "from sklearn.metrics import mean_absolute_error\n"
   ]
  },
  {
   "cell_type": "code",
   "execution_count": 53,
   "metadata": {},
   "outputs": [],
   "source": [
    "def handle_XGBoost(X_train, y_train):\n",
    "    # alpha values from 0.01 to 1000 up to 10 values log scale\n",
    "    alphalist = np.logspace(0, 2, 10, endpoint=True)\n",
    "    \n",
    "    error_dict = {}\n",
    "    feature_dict = {}\n",
    "\n",
    "    # cross-validate on alpha (regularization strenght) from alphalist\n",
    "    for i in alphalist:\n",
    "        # print(i)\n",
    "        bst = xgb.sklearn.XGBRegressor(reg_alpha=i)\n",
    "        \n",
    "        # cross-validate on num of features selected using RFE\n",
    "        selector = RFECV(bst, step=1, cv=5)\n",
    "        selector = selector.fit(X_train, y_train)\n",
    "        selector.support_ \n",
    "        \n",
    "        # selected feature index\n",
    "        feature = []\n",
    "        for j in range(len(selector.support_)):\n",
    "            if selector.support_[j]:\n",
    "                feature.append(j)\n",
    "        feature_dict[i] = feature\n",
    "                \n",
    "        # cross_val_score on the underlying estimator array of scores\n",
    "        score = cross_val_score(selector.estimator_, X_train[:,feature], y_train, \n",
    "                                cv=5, scoring='neg_mean_absolute_error').mean()\n",
    "        error_dict[i] = -score\n",
    "\n",
    "    opt_a = min(error_dict, key= error_dict.get)\n",
    "    # print(error_dict)\n",
    "    opt_feature = feature_dict[opt_a]\n",
    "\n",
    "    print(\"alpha (lambda) from CV: {}\".format(opt_a))\n",
    "    print(\"size of opt_feature from CV:\", len(opt_feature))\n",
    "\n",
    "    # obtain train MAE with CV'ed alpha value\n",
    "    bst = xgb.sklearn.XGBRegressor(reg_alpha=opt_a)\n",
    "    bst.fit(X_train[:,opt_feature], y_train)\n",
    "    y_pred = bst.predict(X_train[:,opt_feature])\n",
    "    print(\"Train MAE: {:.6}\".format(mean_absolute_error(y_train, y_pred)))\n",
    "    \n",
    "    return bst"
   ]
  },
  {
   "cell_type": "code",
   "execution_count": 54,
   "metadata": {},
   "outputs": [
    {
     "name": "stdout",
     "output_type": "stream",
     "text": [
      "alpha (lambda) from CV: 1.6681005372000588\n",
      "size of opt_feature from CV: 6\n",
      "Train MAE: 0.220982\n"
     ]
    }
   ],
   "source": [
    "bst = xgb.sklearn.XGBRegressor(reg_alpha=1)\n",
    "\n",
    "X, y = make_friedman1(n_samples=50, n_features=10, random_state=0)\n",
    "selector = RFECV(bst, step=1, cv=5)\n",
    "selector = selector.fit(X, y)\n",
    "selector.support_ \n",
    "\n",
    "new_bst = handle_XGBoost(X, y)"
   ]
  },
  {
   "cell_type": "code",
   "execution_count": null,
   "metadata": {},
   "outputs": [],
   "source": []
  }
 ],
 "metadata": {
  "kernelspec": {
   "display_name": "Python 3",
   "language": "python",
   "name": "python3"
  },
  "language_info": {
   "codemirror_mode": {
    "name": "ipython",
    "version": 3
   },
   "file_extension": ".py",
   "mimetype": "text/x-python",
   "name": "python",
   "nbconvert_exporter": "python",
   "pygments_lexer": "ipython3",
   "version": "3.6.4"
  }
 },
 "nbformat": 4,
 "nbformat_minor": 2
}
