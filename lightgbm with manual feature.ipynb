{
 "cells": [
  {
   "cell_type": "code",
   "execution_count": 1,
   "metadata": {},
   "outputs": [],
   "source": [
    "import numpy as np\n",
    "import pandas as pd\n",
    "\n",
    "import lightgbm as lgb\n",
    "\n",
    "from sklearn.feature_selection import VarianceThreshold\n",
    "\n",
    "from sklearn.feature_selection import RFE\n",
    "from sklearn.feature_selection import RFECV\n",
    "from sklearn.model_selection import cross_val_score\n",
    "from sklearn.metrics import mean_absolute_error\n",
    "from sklearn.model_selection import RandomizedSearchCV\n",
    "from sklearn.model_selection import GridSearchCV\n",
    "\n",
    "import time\n",
    "import gc"
   ]
  },
  {
   "cell_type": "code",
   "execution_count": 9,
   "metadata": {},
   "outputs": [],
   "source": [
    "train_datapath_2016 = \"./zillow data/merged_2016 v4.csv\"\n",
    "train_datapath_2017 = \"./zillow data/merged_2017 v4.csv\"\n",
    "\n",
    "test_datapath_2016 = \"./zillow data/properties_2016 v4.csv\"\n",
    "test_datapath_2017 = \"./zillow data/properties_2017 v4.csv\""
   ]
  },
  {
   "cell_type": "code",
   "execution_count": 30,
   "metadata": {},
   "outputs": [],
   "source": [
    "# modify 'transactiondate' of df to keep only the month\n",
    "def parse_transactiondate(df):\n",
    "    # modify transactiondate col to keep only the month\n",
    "    new_transactiondate = []\n",
    "    for data in df['transactiondate']:\n",
    "        temp = data.split(\"-\")\n",
    "        new_transactiondate.append(int(temp[1])) # keep only month\n",
    "\n",
    "    new_transactiondate = np.array(new_transactiondate)\n",
    "    new_transactiondate = new_transactiondate.reshape(new_transactiondate.shape[0], 1)\n",
    "\n",
    "    df['transactiondate'] = new_transactiondate\n",
    "\n",
    "# return label index, feature index list\n",
    "# assumes that df label_is_first\n",
    "def split_on_label(df):\n",
    "    return df.columns[0], df.columns[1:]\n",
    "\n",
    "def gen_testdata(df, new_transactiondate):\n",
    "    df_copy = df.copy()\n",
    "    # df_copy['transactiondate'] = new_transactiondate\n",
    "    df_copy.insert(0, 'transactiondate', new_transactiondate)\n",
    "    return df_copy\n",
    "\n",
    "def get_low_var_feature(support_list):\n",
    "    low_var_feature_index = []\n",
    "    support_feature_index = []\n",
    "    for i in range(len(support_list)):\n",
    "        if support_list[i]:\n",
    "            support_feature_index.append(i)\n",
    "        else:\n",
    "            low_var_feature_index.append(i)\n",
    "    return low_var_feature_index, support_feature_index\n",
    "\n",
    "\n",
    "def handle_low_var(sel, train_data, feature_list):\n",
    "    temp_sel = sel.fit(train_data)\n",
    "    low_var_list, support_list = get_low_var_feature(sel.get_support())\n",
    "\n",
    "    return low_var_list\n",
    "\n",
    "\n",
    "# Removing Features with more than 98% missing data\n",
    "def removing_missing(X_train, missing_threshold = 0.95):\n",
    "    exclude_missing = []\n",
    "    num_rows = X_train.shape[0]\n",
    "    for col in X_train.columns:\n",
    "        num_missing = X_train[col].isna().sum()\n",
    "        if num_missing == 0:\n",
    "            continue\n",
    "        missing_fraction = num_missing/float(num_rows)\n",
    "        if missing_fraction > missing_threshold:\n",
    "            exclude_missing.append(col)\n",
    "            \n",
    "    return exclude_missing\n",
    "\n",
    "# removing features with unique value\n",
    "def removing_unique(X_train):\n",
    "    exclude_unique = []\n",
    "    for col in X_train.columns:\n",
    "        num_unique = len(X_train[col].unique())\n",
    "        if X_train[col].isna().sum()!=0 and num_unique == 1:\n",
    "            exclude_unique.append(col)\n",
    "            \n",
    "    return exclude_unique\n",
    "\n",
    "def print_list(li,list_name = ''):\n",
    "    print('%s (%d) :' %(list_name,len(li)))\n",
    "    for i in li:\n",
    "        print(i)\n",
    "        \n",
    "def get_train_features(X_train,el1 = [], el2 = [], el3 = [],el4 = []):\n",
    "    train_feature = []\n",
    "    for col in X_train:\n",
    "        if col not in el1 and col not in el2 and col not in el3 and col not in el4:\n",
    "            train_feature.append(col)\n",
    "    return train_feature\n",
    "\n",
    "# geting categorical features\n",
    "def get_cat_feature(X_train, cat_threshold):\n",
    "    cat_feature_inds = []\n",
    "    cat_feature = []\n",
    "    for i,col in enumerate(X_train):\n",
    "        num_uniques = len(X_train[col].unique())\n",
    "        if num_uniques < cat_threshold and not 'sqft' in col and not 'cnt' in col \\\n",
    "        and not 'nbr' in col and not 'number' in col:\n",
    "            cat_feature_inds.append(i)\n",
    "            cat_feature.append(col)\n",
    "    return cat_feature_inds,cat_feature"
   ]
  },
  {
   "cell_type": "code",
   "execution_count": 11,
   "metadata": {},
   "outputs": [
    {
     "name": "stdout",
     "output_type": "stream",
     "text": [
      "[2016] num of features: 58\n",
      "[2016] num of instances: 90275\n",
      "[2017] num of features: 58\n",
      "[2017] num of instances: 77613\n"
     ]
    },
    {
     "data": {
      "text/plain": [
       "14"
      ]
     },
     "execution_count": 11,
     "metadata": {},
     "output_type": "execute_result"
    }
   ],
   "source": [
    "# read training data\n",
    "train_data16 = pd.read_csv(train_datapath_2016, index_col=0)\n",
    "train_data17 = pd.read_csv(train_datapath_2017, index_col=0)\n",
    "\n",
    "# drop parcelid (index of properties features)\n",
    "train_data16 = train_data16.drop('parcelid', axis=1)\n",
    "train_data17 = train_data17.drop('parcelid', axis=1)\n",
    "\n",
    "label16, feature16 = split_on_label(train_data16)\n",
    "label17, feature17 = split_on_label(train_data17)\n",
    "\n",
    "print(\"[2016] num of features:\", len(feature16))\n",
    "print(\"[2016] num of instances:\", train_data16.shape[0])\n",
    "\n",
    "print(\"[2017] num of features:\", len(feature17))\n",
    "print(\"[2017] num of instances:\", train_data17.shape[0])\n",
    "\n",
    "# modify 'transactiondate' to keep only the month\n",
    "parse_transactiondate(train_data16)\n",
    "parse_transactiondate(train_data17)\n",
    "\n",
    "# training data and label for model 2016\n",
    "X_train16 = train_data16[feature16]\n",
    "y_train16 = train_data16[label16]\n",
    "\n",
    "# training data and label for model 2017\n",
    "X_train17 = train_data17[feature17]\n",
    "y_train17 = train_data17[label17]\n",
    "\n",
    "del train_data16, train_data17\n",
    "gc.collect()"
   ]
  },
  {
   "cell_type": "code",
   "execution_count": 26,
   "metadata": {},
   "outputs": [],
   "source": [
    "# Removing Freatures with too many missing data\n",
    "exclude_missing16 = removing_missing(X_train16)\n",
    "exclude_missing17 = removing_missing(X_train17)\n",
    "\n",
    "# Removing Features with unique values\n",
    "exclude_unique16 = removing_unique(X_train16)\n",
    "exclude_unique17 = removing_unique(X_train17)\n",
    "\n",
    "# Removing Features with low variance\n",
    "# it should remove features with many missing values that were filled by imputation\n",
    "#sel = VarianceThreshold(threshold=(.8 * (1 - .8)))\n",
    "\n",
    "#exclude_low_var16 = handle_low_var(sel, X_train16, feature16)\n",
    "#exclude_low_var17 = handle_low_var(sel, X_train17, feature17)"
   ]
  },
  {
   "cell_type": "code",
   "execution_count": 27,
   "metadata": {},
   "outputs": [
    {
     "name": "stdout",
     "output_type": "stream",
     "text": [
      "exclude_missing16 (18) :\n",
      "architecturalstyletypeid\n",
      "basementsqft\n",
      "buildingclasstypeid\n",
      "decktypeid\n",
      "finishedsquarefeet13\n",
      "finishedsquarefeet15\n",
      "finishedsquarefeet6\n",
      "hashottuborspa\n",
      "poolsizesum\n",
      "pooltypeid10\n",
      "pooltypeid2\n",
      "storytypeid\n",
      "typeconstructiontypeid\n",
      "yardbuildingsqft17\n",
      "yardbuildingsqft26\n",
      "fireplaceflag\n",
      "taxdelinquencyflag\n",
      "taxdelinquencyyear\n",
      "exclude_unique17 (0) :\n",
      "exclude_missing17 (18) :\n",
      "architecturalstyletypeid\n",
      "basementsqft\n",
      "buildingclasstypeid\n",
      "decktypeid\n",
      "finishedsquarefeet13\n",
      "finishedsquarefeet15\n",
      "finishedsquarefeet6\n",
      "hashottuborspa\n",
      "poolsizesum\n",
      "pooltypeid10\n",
      "pooltypeid2\n",
      "storytypeid\n",
      "typeconstructiontypeid\n",
      "yardbuildingsqft17\n",
      "yardbuildingsqft26\n",
      "fireplaceflag\n",
      "taxdelinquencyflag\n",
      "taxdelinquencyyear\n",
      "exclude_unique17 (0) :\n"
     ]
    }
   ],
   "source": [
    "print_list(exclude_missing16,'exclude_missing16')\n",
    "#print_list(exclude_low_var16,'exclude_low_var16')\n",
    "print_list(exclude_unique16,'exclude_unique17')\n",
    "\n",
    "print_list(exclude_missing17,'exclude_missing17')\n",
    "#print_list(exclude_low_var17,'exclude_low_var16')\n",
    "print_list(exclude_unique17,'exclude_unique17')"
   ]
  },
  {
   "cell_type": "code",
   "execution_count": 28,
   "metadata": {},
   "outputs": [
    {
     "name": "stdout",
     "output_type": "stream",
     "text": [
      "\n",
      "[2016] num of features: 40\n",
      "[2017] num of features: 40\n",
      "train_feature16 (40) :\n",
      "transactiondate\n",
      "airconditioningtypeid\n",
      "bathroomcnt\n",
      "bedroomcnt\n",
      "buildingqualitytypeid\n",
      "calculatedbathnbr\n",
      "finishedfloor1squarefeet\n",
      "calculatedfinishedsquarefeet\n",
      "finishedsquarefeet12\n",
      "finishedsquarefeet50\n",
      "fips\n",
      "fireplacecnt\n",
      "fullbathcnt\n",
      "garagecarcnt\n",
      "garagetotalsqft\n",
      "heatingorsystemtypeid\n",
      "latitude\n",
      "longitude\n",
      "lotsizesquarefeet\n",
      "poolcnt\n",
      "pooltypeid7\n",
      "propertycountylandusecode\n",
      "propertylandusetypeid\n",
      "propertyzoningdesc\n",
      "rawcensustractandblock\n",
      "regionidcity\n",
      "regionidcounty\n",
      "regionidneighborhood\n",
      "regionidzip\n",
      "roomcnt\n",
      "threequarterbathnbr\n",
      "unitcnt\n",
      "yearbuilt\n",
      "numberofstories\n",
      "structuretaxvaluedollarcnt\n",
      "taxvaluedollarcnt\n",
      "assessmentyear\n",
      "landtaxvaluedollarcnt\n",
      "taxamount\n",
      "censustractandblock\n",
      "train_feature17 (40) :\n",
      "transactiondate\n",
      "airconditioningtypeid\n",
      "bathroomcnt\n",
      "bedroomcnt\n",
      "buildingqualitytypeid\n",
      "calculatedbathnbr\n",
      "finishedfloor1squarefeet\n",
      "calculatedfinishedsquarefeet\n",
      "finishedsquarefeet12\n",
      "finishedsquarefeet50\n",
      "fips\n",
      "fireplacecnt\n",
      "fullbathcnt\n",
      "garagecarcnt\n",
      "garagetotalsqft\n",
      "heatingorsystemtypeid\n",
      "latitude\n",
      "longitude\n",
      "lotsizesquarefeet\n",
      "poolcnt\n",
      "pooltypeid7\n",
      "propertycountylandusecode\n",
      "propertylandusetypeid\n",
      "propertyzoningdesc\n",
      "rawcensustractandblock\n",
      "regionidcity\n",
      "regionidcounty\n",
      "regionidneighborhood\n",
      "regionidzip\n",
      "roomcnt\n",
      "threequarterbathnbr\n",
      "unitcnt\n",
      "yearbuilt\n",
      "numberofstories\n",
      "structuretaxvaluedollarcnt\n",
      "taxvaluedollarcnt\n",
      "assessmentyear\n",
      "landtaxvaluedollarcnt\n",
      "taxamount\n",
      "censustractandblock\n"
     ]
    }
   ],
   "source": [
    "train_feature16 = get_train_features(X_train16, el1 = exclude_missing16, \n",
    "                                                #el2 = exclude_low_var16,\n",
    "                                                el3 = exclude_unique16)\n",
    "train_feature17 = get_train_features(X_train17, el1 = exclude_missing17, \n",
    "                                                #el2 = exclude_low_var17,\n",
    "                                                el3 = exclude_unique17)\n",
    "\n",
    "new_X_train16 = X_train16[train_feature16]\n",
    "new_X_train17 = X_train17[train_feature17]\n",
    "\n",
    "print(\"\\n[2016] num of features:\", new_X_train16.shape[1])\n",
    "print(\"[2017] num of features:\", new_X_train17.shape[1])\n",
    "print_list(train_feature16,\"train_feature16\")\n",
    "print_list(train_feature17,\"train_feature17\")"
   ]
  },
  {
   "cell_type": "code",
   "execution_count": 31,
   "metadata": {},
   "outputs": [
    {
     "name": "stdout",
     "output_type": "stream",
     "text": [
      "cat_feature16 (14) :\n",
      "transactiondate\n",
      "airconditioningtypeid\n",
      "buildingqualitytypeid\n",
      "fips\n",
      "heatingorsystemtypeid\n",
      "pooltypeid7\n",
      "propertycountylandusecode\n",
      "propertylandusetypeid\n",
      "regionidcity\n",
      "regionidcounty\n",
      "regionidneighborhood\n",
      "regionidzip\n",
      "yearbuilt\n",
      "assessmentyear\n",
      "cat_feature17 (14) :\n",
      "transactiondate\n",
      "airconditioningtypeid\n",
      "buildingqualitytypeid\n",
      "fips\n",
      "heatingorsystemtypeid\n",
      "pooltypeid7\n",
      "propertycountylandusecode\n",
      "propertylandusetypeid\n",
      "regionidcity\n",
      "regionidcounty\n",
      "regionidneighborhood\n",
      "regionidzip\n",
      "yearbuilt\n",
      "assessmentyear\n"
     ]
    }
   ],
   "source": [
    "cat_feature_inds16, cat_feature16 = get_cat_feature(new_X_train16, cat_threshold = 1000)\n",
    "cat_feature_inds17, cat_feature17 = get_cat_feature(new_X_train17, cat_threshold = 1000)\n",
    "print_list(cat_feature16,'cat_feature16')\n",
    "print_list(cat_feature17,'cat_feature17')"
   ]
  },
  {
   "cell_type": "markdown",
   "metadata": {},
   "source": [
    "### Feauture Selection"
   ]
  },
  {
   "cell_type": "code",
   "execution_count": 32,
   "metadata": {},
   "outputs": [],
   "source": [
    "def handle_lightgbm_GridCV(X, y, param_dict):\n",
    "    \n",
    "    # cross-validate on alpha (regularization strenght) from alphalist\n",
    "    \n",
    "    gbm = lgb.LGBMRegressor(n_jobs = -1, random_state = 42,silent = False)\n",
    "       \n",
    "    # cross-validate on random search CV\n",
    "    grid_search = GridSearchCV(gbm,param_grid=param_dict,\n",
    "                               cv=10, scoring='neg_mean_absolute_error')\n",
    "    \n",
    "    start = time.time()\n",
    "    grid_search.fit(X, y)\n",
    "    print(\"GridSearchCV took %.2f seconds\"\n",
    "          \" parameter settings.\" % (time.time() - start))\n",
    "\n",
    "    return grid_search"
   ]
  },
  {
   "cell_type": "code",
   "execution_count": 45,
   "metadata": {},
   "outputs": [
    {
     "name": "stdout",
     "output_type": "stream",
     "text": [
      "GridSearchCV took 269.81 seconds parameter settings.\n"
     ]
    }
   ],
   "source": [
    "params_dict = {\n",
    "    \"learning_rate\":[0.012],\n",
    "    'num_leaves':[127],\n",
    "    'max_depth':[-1],\n",
    "    'reg_alpha':[0.01],\n",
    "    'reg_lambda':[100],\n",
    "    'min_split_gain':[0],\n",
    "    'min_child_samples':[10],\n",
    "    'colsample_bytree':[0.8],\n",
    "    \n",
    "    'min_child_weight':[0.001],\n",
    "    'subsample':[0.8],\n",
    "    'subsample_for_bin':[50000],\n",
    "    'subsample_freq':[1], \n",
    "    'n_eatimators':[512],\n",
    "    'ramdon_state':[21]\n",
    "}\n",
    "grid_result = handle_lightgbm_GridCV(new_X_train16, y_train16, params_dict)"
   ]
  },
  {
   "cell_type": "code",
   "execution_count": 47,
   "metadata": {},
   "outputs": [
    {
     "name": "stderr",
     "output_type": "stream",
     "text": [
      "/Users/apple/venv/lib/python3.6/site-packages/sklearn/model_selection/_search.py:761: DeprecationWarning: The grid_scores_ attribute was deprecated in version 0.18 in favor of the more elaborate cv_results_ attribute. The grid_scores_ attribute will not be available from 0.20\n",
      "  DeprecationWarning)\n"
     ]
    },
    {
     "data": {
      "text/plain": [
       "[mean: -0.06781, std: 0.00331, params: {'colsample_bytree': 0.8, 'learning_rate': 0.012, 'max_depth': -1, 'min_child_samples': 10, 'min_child_weight': 0.001, 'min_split_gain': 0, 'n_eatimators': 512, 'num_leaves': 127, 'ramdon_state': 21, 'reg_alpha': 0.01, 'reg_lambda': 100, 'subsample': 0.8, 'subsample_for_bin': 50000, 'subsample_freq': 1},\n",
       " mean: -0.06781, std: 0.00331, params: {'colsample_bytree': 0.8, 'learning_rate': 0.012, 'max_depth': -1, 'min_child_samples': 20, 'min_child_weight': 0.001, 'min_split_gain': 0, 'n_eatimators': 512, 'num_leaves': 127, 'ramdon_state': 21, 'reg_alpha': 0.01, 'reg_lambda': 100, 'subsample': 0.8, 'subsample_for_bin': 50000, 'subsample_freq': 1},\n",
       " mean: -0.06782, std: 0.00331, params: {'colsample_bytree': 0.8, 'learning_rate': 0.012, 'max_depth': -1, 'min_child_samples': 30, 'min_child_weight': 0.001, 'min_split_gain': 0, 'n_eatimators': 512, 'num_leaves': 127, 'ramdon_state': 21, 'reg_alpha': 0.01, 'reg_lambda': 100, 'subsample': 0.8, 'subsample_for_bin': 50000, 'subsample_freq': 1},\n",
       " mean: -0.06782, std: 0.00331, params: {'colsample_bytree': 0.8, 'learning_rate': 0.012, 'max_depth': -1, 'min_child_samples': 40, 'min_child_weight': 0.001, 'min_split_gain': 0, 'n_eatimators': 512, 'num_leaves': 127, 'ramdon_state': 21, 'reg_alpha': 0.01, 'reg_lambda': 100, 'subsample': 0.8, 'subsample_for_bin': 50000, 'subsample_freq': 1}]"
      ]
     },
     "execution_count": 47,
     "metadata": {},
     "output_type": "execute_result"
    }
   ],
   "source": [
    "grid_result.grid_scores_"
   ]
  },
  {
   "cell_type": "markdown",
   "metadata": {},
   "source": [
    "### Learning Curve"
   ]
  },
  {
   "cell_type": "code",
   "execution_count": 184,
   "metadata": {},
   "outputs": [],
   "source": [
    "import numpy as np\n",
    "import matplotlib.pyplot as plt\n",
    "from sklearn.learning_curve import learning_curve"
   ]
  },
  {
   "cell_type": "code",
   "execution_count": 185,
   "metadata": {},
   "outputs": [],
   "source": [
    "def plot_learning_curve(estimator, X, y, ylim=None, cv=None, train_sizes=np.linspace(.05, 1., 20), verbose=0, plot=True):\n",
    "    \n",
    "    train_sizes, train_scores, test_scores = learning_curve(\n",
    "            estimator, X, y, cv=cv, train_sizes=train_sizes, scoring = 'neg_mean_absolute_error',verbose=verbose)\n",
    "\n",
    "    train_scores_mean = np.mean(train_scores, axis=1)\n",
    "    train_scores_std = np.std(train_scores, axis=1)\n",
    "    test_scores_mean = np.mean(test_scores, axis=1)\n",
    "    test_scores_std = np.std(test_scores, axis=1)\n",
    "\n",
    "    if plot:\n",
    "        plt.figure()\n",
    "        if ylim is not None:\n",
    "            plt.ylim(*ylim)\n",
    "        plt.xlabel(u\"number of samples\")\n",
    "        plt.ylabel(u\"score\")\n",
    "        plt.gca().invert_yaxis()\n",
    "        plt.grid()\n",
    "        plt.fill_between(train_sizes, train_scores_mean - train_scores_std, train_scores_mean + train_scores_std, \n",
    "                         alpha=0.1, color=\"b\")\n",
    "        plt.fill_between(train_sizes, test_scores_mean - test_scores_std, test_scores_mean + test_scores_std, \n",
    "                         alpha=0.1, color=\"r\")\n",
    "        plt.plot(train_sizes, train_scores_mean, 'o-', color=\"b\", label=u\"training set score\")\n",
    "        plt.plot(train_sizes, test_scores_mean, 'o-', color=\"r\", label=u\"validation set score\")\n",
    "\n",
    "        plt.legend(loc=\"best\")\n",
    "\n",
    "        plt.draw()\n",
    "        plt.show()\n",
    "        plt.gca().invert_yaxis()\n",
    "\n",
    "    midpoint = ((train_scores_mean[-1] + train_scores_std[-1]) + (test_scores_mean[-1] - test_scores_std[-1])) / 2\n",
    "    diff = (train_scores_mean[-1] + train_scores_std[-1]) - (test_scores_mean[-1] - test_scores_std[-1])\n",
    "    return midpoint, diff"
   ]
  },
  {
   "cell_type": "code",
   "execution_count": 186,
   "metadata": {},
   "outputs": [
    {
     "data": {
      "image/png": "[encoded data removed]",
      "text/plain": [
       "<Figure size 432x288 with 1 Axes>"
      ]
     },
     "metadata": {},
     "output_type": "display_data"
    },
    {
     "data": {
      "image/png": "[encoded data removed]",
      "text/plain": [
       "<Figure size 432x288 with 1 Axes>"
      ]
     },
     "metadata": {},
     "output_type": "display_data"
    }
   ],
   "source": [
    "params = {\"learning_rate\":0.011,\n",
    "          'n_estimators':100,\n",
    "          'num_leaves':145,\n",
    "          'max_depth':-1,\n",
    "          'reg_alpha':0.01,\n",
    "          'reg_lambda':100,\n",
    "          'colsample_bytree':0.8,\n",
    "          'min_split_gain':0,\n",
    "          'min_child_samples':300,\n",
    "          'min_child_weight':0.001,\n",
    "          'subsample':1.0,\n",
    "          'subsample_for_bin':50000,\n",
    "          'subsample_freq':1, \n",
    "          }\n",
    "bst = lgb.LGBMRegressor(n_jobs = -1, random_state = 42,silent = False,\n",
    "                            learning_rate = params['learning_rate'],\n",
    "                            n_estimators = params['n_estimators'],\n",
    "                            num_leaves = params['num_leaves'],\n",
    "                            reg_alpha = params['reg_alpha'],\n",
    "                            reg_lambda = params['reg_lambda'],\n",
    "                            min_split_gain = params['min_split_gain'],\n",
    "                            min_child_samples = params['min_child_samples'],\n",
    "                            subsample = params['subsample'],\n",
    "                            subsample_for_bin = params['subsample_for_bin'],\n",
    "                            colsample_bytree = params['colsample_bytree'],\n",
    "                            subsample_freq = params['subsample_freq'],\n",
    "                            max_depth = params['max_depth'],\n",
    "                            min_child_weight = params['min_child_weight']\n",
    "                        \n",
    "                           )\n",
    "_,_ = plot_learning_curve(bst, X_train16, y_train16)"
   ]
  },
  {
   "cell_type": "code",
   "execution_count": 88,
   "metadata": {},
   "outputs": [
    {
     "data": {
      "image/png": "[encoded data removed]",
      "text/plain": [
       "<Figure size 432x288 with 1 Axes>"
      ]
     },
     "metadata": {},
     "output_type": "display_data"
    },
    {
     "data": {
      "text/plain": [
       "(-0.0707023234150505, 0.0020501947711049767)"
      ]
     },
     "execution_count": 88,
     "metadata": {},
     "output_type": "execute_result"
    },
    {
     "data": {
      "image/png": "[encoded data removed]",
      "text/plain": [
       "<Figure size 432x288 with 1 Axes>"
      ]
     },
     "metadata": {},
     "output_type": "display_data"
    }
   ],
   "source": [
    "params = {\"learning_rate\":0.011,\n",
    "          'n_estimators':100,\n",
    "          'num_leaves':145,\n",
    "          'max_depth':-1,\n",
    "          'reg_alpha':0.01,\n",
    "          'reg_lambda':100,\n",
    "          'colsample_bytree':0.8,\n",
    "          'min_split_gain':0,\n",
    "          'min_child_samples':300,\n",
    "          'min_child_weight':0.001,\n",
    "          'subsample':1.0,\n",
    "          'subsample_for_bin':50000,\n",
    "          'subsample_freq':1,\n",
    "         }\n",
    "bst = lgb.LGBMRegressor(n_jobs = -1, random_state = 42,silent = False,\n",
    "                            learning_rate = params['learning_rate'],\n",
    "                            n_estimators = params['n_estimators'],\n",
    "                            num_leaves = params['num_leaves'],\n",
    "                            reg_alpha = params['reg_alpha'],\n",
    "                            reg_lambda = params['reg_lambda'],\n",
    "                            min_split_gain = params['min_split_gain'],\n",
    "                            min_child_samples = params['min_child_samples'],\n",
    "                            subsample = params['subsample'],\n",
    "                            subsample_for_bin = params['subsample_for_bin'],\n",
    "                            colsample_bytree = params['colsample_bytree'],\n",
    "                            subsample_freq = params['subsample_freq'],\n",
    "                            max_depth = params['max_depth'],\n",
    "                            min_child_weight = params['min_child_weight']\n",
    "                           )\n",
    "_,_ = plot_learning_curve(bst, X_train17, y_train17)"
   ]
  },
  {
   "cell_type": "code",
   "execution_count": 187,
   "metadata": {},
   "outputs": [
    {
     "name": "stderr",
     "output_type": "stream",
     "text": [
      "/Users/apple/venv/lib/python3.6/site-packages/numpy/lib/arraysetops.py:472: FutureWarning: elementwise comparison failed; returning scalar instead, but in the future will perform elementwise comparison\n",
      "  mask |= (ar1 == a)\n"
     ]
    },
    {
     "name": "stdout",
     "output_type": "stream",
     "text": [
      "[2016] num of instances:  2985217\n",
      "[2017] num of instances:  2985217\n"
     ]
    }
   ],
   "source": [
    "# read in test\n",
    "test_data2016 = pd.read_csv(test_datapath_2016, index_col=0)\n",
    "test_data2017 = pd.read_csv(test_datapath_2017, index_col=0)\n",
    "\n",
    "print(\"[2016] num of instances: \", test_data2016.shape[0])\n",
    "print(\"[2017] num of instances: \", test_data2017.shape[0])\n",
    "\n",
    "# save parcelid for merge \n",
    "test_parcelid16 = test_data2016['parcelid']\n",
    "test_parcelid17 = test_data2017['parcelid']\n",
    "\n",
    "# drop parcelid col\n",
    "test_data2016 = test_data2016.drop('parcelid', axis=1)\n",
    "test_data2017 = test_data2017.drop('parcelid', axis=1)\n",
    "\n",
    "# generate transaction date\n",
    "test10_16 = np.repeat(10, test_data2016.shape[0])\n",
    "test11_16 = np.repeat(11, test_data2016.shape[0])\n",
    "test12_16 = np.repeat(12, test_data2016.shape[0])\n",
    "\n",
    "test10_17 = np.repeat(10, test_data2017.shape[0])\n",
    "test11_17 = np.repeat(11, test_data2017.shape[0])\n",
    "test12_17 = np.repeat(12, test_data2017.shape[0])\n",
    "\n",
    "# get new test data with transaction date\n",
    "X_test10_16 = gen_testdata(test_data2016, test10_16)\n",
    "X_test11_16 = gen_testdata(test_data2016, test11_16)\n",
    "X_test12_16 = gen_testdata(test_data2016, test12_16)\n",
    "\n",
    "X_test10_17 = gen_testdata(test_data2017, test10_17)\n",
    "X_test11_17 = gen_testdata(test_data2017, test11_17)\n",
    "X_test12_17 = gen_testdata(test_data2017, test12_17)"
   ]
  },
  {
   "cell_type": "code",
   "execution_count": 188,
   "metadata": {},
   "outputs": [],
   "source": [
    "def train_and_test(X_train,y_train,X_test, params):\n",
    "    \n",
    "    bst = lgb.LGBMRegressor(n_jobs = -1, random_state = 42,silent = False,\n",
    "                            learning_rate = params['learning_rate'],\n",
    "                            n_estimators = params['n_estimators'],\n",
    "                            num_leaves = params['num_leaves'],\n",
    "                            reg_alpha = params['reg_alpha'],\n",
    "                            reg_lambda = params['reg_lambda'],\n",
    "                            min_split_gain = params['min_split_gain'],\n",
    "                            min_child_samples = params['min_child_samples'],\n",
    "                            subsample = params['subsample'],\n",
    "                            subsample_for_bin = params['subsample_for_bin'],\n",
    "                            colsample_bytree = params['colsample_bytree'],\n",
    "                            subsample_freq = params['subsample_freq'],\n",
    "                            max_depth = params['max_depth'],\n",
    "                            min_child_weight = params['min_child_weight']\n",
    "                           )\n",
    "    bst.fit(X_train, y_train)\n",
    "    y_pred = bst.predict(X_test)\n",
    "    \n",
    "    return y_pred"
   ]
  },
  {
   "cell_type": "code",
   "execution_count": 190,
   "metadata": {},
   "outputs": [],
   "source": [
    "best_params_16 = {\"learning_rate\":0.011,\n",
    "                  'n_estimators':100,\n",
    "                  'num_leaves':145,\n",
    "                  'max_depth':-1,\n",
    "                  'reg_alpha':0.01,\n",
    "                  'reg_lambda':100,\n",
    "                  'colsample_bytree':0.8,\n",
    "                  'min_split_gain':0,\n",
    "                  'min_child_samples':300,\n",
    "                  'min_child_weight':0.001,\n",
    "                  'subsample':0.8,\n",
    "                  'subsample_for_bin':50000,\n",
    "                  'subsample_freq':1,\n",
    "                 }\n",
    "y_pred10_16 = train_and_test(X_train16, y_train16, X_test10_16.values,best_params_16)\n",
    "y_pred11_16 = train_and_test(X_train16, y_train16, X_test11_16.values,best_params_16)\n",
    "y_pred12_16 = train_and_test(X_train16, y_train16, X_test12_16.values,best_params_16)\n",
    "\n",
    "best_params_17 = {\"learning_rate\":0.011,\n",
    "                  'n_estimators':100,\n",
    "                  'num_leaves':80,\n",
    "                  'max_depth':-1,\n",
    "                  'reg_alpha':0.01,\n",
    "                  'reg_lambda':500,\n",
    "                  'colsample_bytree':0.6,\n",
    "                  'min_split_gain':0,\n",
    "                  'min_child_samples':300,\n",
    "                  'min_child_weight':0.001,\n",
    "                  'subsample':0.8,\n",
    "                  'subsample_for_bin':50000,\n",
    "                  'subsample_freq':1,\n",
    "                  }\n",
    "y_pred10_17 = train_and_test(X_train17, y_train17, X_test10_17.values,best_params_17)\n",
    "y_pred11_17 = train_and_test(X_train17, y_train17, X_test11_17.values,best_params_17)\n",
    "y_pred12_17 = train_and_test(X_train17, y_train17, X_test12_17.values,best_params_17)"
   ]
  },
  {
   "cell_type": "code",
   "execution_count": 191,
   "metadata": {},
   "outputs": [
    {
     "name": "stdout",
     "output_type": "stream",
     "text": [
      "          Parcelid    201610    201611    201612    201710    201711    201712\n",
      "0         10754147  0.036061  0.036061  0.036061  0.036070  0.036070  0.036070\n",
      "1         10759547  0.029670  0.029670  0.029670  0.034878  0.034878  0.034878\n",
      "2         10843547  0.041892  0.041892  0.041892  0.023015  0.023015  0.023015\n",
      "3         10859147  0.028555  0.028555  0.028555  0.034286  0.034286  0.034286\n",
      "4         10879947  0.007023  0.007023  0.007023  0.009165  0.009165  0.009165\n",
      "5         10898347  0.009329  0.009329  0.009329  0.017094  0.017094  0.017094\n",
      "6         10933547  0.006379  0.006432  0.006463  0.009195  0.009195  0.009195\n",
      "7         10940747  0.016154  0.016154  0.016154  0.019002  0.019002  0.019002\n",
      "8         10954547  0.034844  0.034844  0.034844  0.036188  0.036188  0.036188\n",
      "9         10976347  0.012069  0.012069  0.012069  0.020487  0.020487  0.020487\n",
      "10        11073947  0.002881  0.002881  0.003000  0.013769  0.013769  0.013769\n",
      "11        11114347  0.036789  0.036789  0.036789  0.036872  0.036872  0.036872\n",
      "12        11116947 -0.005535 -0.005518 -0.005518  0.021892  0.021892  0.021892\n",
      "13        11142747  0.035250  0.035250  0.035250  0.036234  0.036234  0.036234\n",
      "14        11193347  0.029496  0.029496  0.029496  0.037082  0.037082  0.037082\n",
      "15        11215747  0.029744  0.029744  0.029744  0.037777  0.037777  0.037777\n",
      "16        11229347  0.029180  0.029180  0.029180  0.037387  0.037387  0.037387\n",
      "17        11287347  0.003060  0.003060  0.003060  0.026353  0.026353  0.026353\n",
      "18        11288547  0.008822  0.008822  0.008822  0.021045  0.021045  0.021045\n",
      "19        11324547  0.014761  0.014761  0.014761  0.019799  0.019799  0.019799\n",
      "20        11391347  0.023397  0.023397  0.023397  0.022420  0.022420  0.022420\n",
      "21        11395747  0.018232  0.018232  0.018232  0.022667  0.022667  0.022667\n",
      "22        11404347  0.010961  0.010961  0.010961  0.015350  0.015350  0.015350\n",
      "23        11405747  0.004495  0.004495  0.004495  0.015209  0.015209  0.015209\n",
      "24        11417147 -0.002074 -0.001723 -0.001723  0.017249  0.017249  0.017249\n",
      "25        11457547  0.036825  0.036825  0.036825  0.016846  0.016846  0.016846\n",
      "26        11488147  0.002207  0.002207  0.002207  0.015555  0.015555  0.015555\n",
      "27        11520747  0.023145  0.023145  0.023145  0.023715  0.023715  0.023715\n",
      "28        11524947  0.008309  0.008527  0.008558  0.012918  0.012918  0.012918\n",
      "29        11544747  0.009467  0.009642  0.009986  0.012545  0.012545  0.012545\n",
      "...            ...       ...       ...       ...       ...       ...       ...\n",
      "2985187  167636430  0.015046  0.015265  0.015316  0.025697  0.025697  0.025697\n",
      "2985188  167690630  0.015046  0.015265  0.015316  0.012744  0.012744  0.012744\n",
      "2985189  167636630  0.015046  0.015265  0.015316  0.024914  0.024914  0.024914\n",
      "2985190   10834030  0.015046  0.015265  0.015316  0.023614  0.023614  0.023614\n",
      "2985191  167637430  0.015046  0.015265  0.015316  0.011541  0.011541  0.011541\n",
      "2985192  167637630  0.015046  0.015265  0.015316  0.038078  0.038078  0.038078\n",
      "2985193  167637230  0.015046  0.015265  0.015316  0.011930  0.011930  0.011930\n",
      "2985194   11645030  0.015046  0.015265  0.015316  0.011617  0.011617  0.011617\n",
      "2985195  167689030  0.015046  0.015265  0.015316  0.014651  0.014651  0.014651\n",
      "2985196  167638630  0.015046  0.015265  0.015316  0.021625  0.021625  0.021625\n",
      "2985197  167638430  0.015046  0.015265  0.015316  0.018121  0.018121  0.018121\n",
      "2985198   14342030  0.015046  0.015265  0.015316  0.044124  0.044124  0.044124\n",
      "2985199  167638230  0.015046  0.015265  0.015316  0.016468  0.016468  0.016468\n",
      "2985200  167637830  0.015046  0.015265  0.015316  0.013086  0.013086  0.013086\n",
      "2985201  167639230  0.015046  0.015265  0.015316  0.024544  0.024544  0.024544\n",
      "2985202   14341030  0.015046  0.015265  0.015316  0.034252  0.034252  0.034252\n",
      "2985203   14341630  0.015046  0.015265  0.015316  0.036644  0.036644  0.036644\n",
      "2985204   14367630  0.015046  0.015265  0.015316  0.027009  0.027009  0.027009\n",
      "2985205  167638830  0.015046  0.015265  0.015316  0.018517  0.018517  0.018517\n",
      "2985206   12572230  0.015046  0.015265  0.015316  0.022262  0.022262  0.022262\n",
      "2985207   14460030  0.015046  0.015265  0.015316  0.022605  0.022605  0.022605\n",
      "2985208   14284830  0.015046  0.015265  0.015316  0.021138  0.021138  0.021138\n",
      "2985209   14285230  0.015046  0.015265  0.015316  0.036647  0.036647  0.036647\n",
      "2985210   14455630  0.015046  0.015265  0.015316  0.045646  0.045646  0.045646\n",
      "2985211   11117630  0.015046  0.015265  0.015316  0.020771  0.020771  0.020771\n",
      "2985212  168176230  0.015046  0.015265  0.015316  0.024809  0.024809  0.024809\n",
      "2985213   14273630  0.015046  0.015265  0.015316  0.025550  0.025550  0.025550\n",
      "2985214  168040630  0.015046  0.015265  0.015316  0.016661  0.016661  0.016661\n",
      "2985215  168040830  0.015046  0.015265  0.015316  0.034290  0.034290  0.034290\n",
      "2985216  168040430  0.015046  0.015265  0.015316  0.022974  0.022974  0.022974\n",
      "\n",
      "[2985217 rows x 7 columns]\n",
      "2985217 7\n"
     ]
    }
   ],
   "source": [
    "# merged on Parcelid for predicted result on test data\n",
    "\n",
    "test_dict_16 = {'Parcelid': test_parcelid16, '201610': y_pred10_16, '201611': y_pred11_16, '201612': y_pred12_16}\n",
    "test_dict_17 = {'Parcelid': test_parcelid17, '201710': y_pred10_17, '201711': y_pred11_17, '201712': y_pred12_17}\n",
    "\n",
    "df_test_16 = pd.DataFrame(data=test_dict_16)\n",
    "df_test_17 = pd.DataFrame(data=test_dict_17)\n",
    "\n",
    "df_merged = df_test_16.merge(df_test_17, left_on='Parcelid', right_on='Parcelid', how='outer')\n",
    "print(df_merged)\n",
    "\n",
    "# handle submission file\n",
    "submitfile = \"./zillow data/sample_submission.csv\"\n",
    "\n",
    "submit_df = pd.read_csv(submitfile)\n",
    "print(submit_df.shape[0], submit_df.shape[1])\n",
    "\n",
    "assert(submit_df.shape[0] == df_merged.shape[0]), \"Error: invalid row size for submit!\"\n",
    "df_merged.to_csv(\"./zillow data/draft_submission6.csv\", index=False)"
   ]
  },
  {
   "cell_type": "code",
   "execution_count": 131,
   "metadata": {},
   "outputs": [],
   "source": [
    "df_merged.to_csv(\"./zillow data/draft_submission4.csv\", index=False)"
   ]
  }
 ],
 "metadata": {
  "kernelspec": {
   "display_name": "Python 3",
   "language": "python",
   "name": "python3"
  },
  "language_info": {
   "codemirror_mode": {
    "name": "ipython",
    "version": 3
   },
   "file_extension": ".py",
   "mimetype": "text/x-python",
   "name": "python",
   "nbconvert_exporter": "python",
   "pygments_lexer": "ipython3",
   "version": "3.6.5"
  }
 },
 "nbformat": 4,
 "nbformat_minor": 2
}
