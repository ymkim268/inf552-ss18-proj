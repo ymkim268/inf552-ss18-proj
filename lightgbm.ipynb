{
 "cells": [
  {
   "cell_type": "code",
   "execution_count": 1,
   "metadata": {},
   "outputs": [],
   "source": [
    "import numpy as np\n",
    "import pandas as pd\n",
    "\n",
    "import lightgbm as lgb\n",
    "\n",
    "from sklearn.feature_selection import VarianceThreshold\n",
    "\n",
    "from sklearn.feature_selection import RFE\n",
    "from sklearn.feature_selection import RFECV\n",
    "from sklearn.model_selection import cross_val_score\n",
    "from sklearn.metrics import mean_absolute_error\n",
    "from sklearn.model_selection import RandomizedSearchCV\n",
    "from sklearn.model_selection import GridSearchCV\n",
    "\n",
    "import time"
   ]
  },
  {
   "cell_type": "code",
   "execution_count": 2,
   "metadata": {},
   "outputs": [],
   "source": [
    "train_datapath_2016 = \"./zillow data/merged_2016 v2.csv\"\n",
    "train_datapath_2017 = \"./zillow data/merged_2017 v2.csv\"\n",
    "\n",
    "test_datapath_2016 = \"./zillow data/properties_2016 v2.csv\"\n",
    "test_datapath_2017 = \"./zillow data/properties_2017 v2.csv\""
   ]
  },
  {
   "cell_type": "code",
   "execution_count": 3,
   "metadata": {},
   "outputs": [],
   "source": [
    "# modify 'transactiondate' of df to keep only the month\n",
    "def parse_transactiondate(df):\n",
    "    # modify transactiondate col to keep only the month\n",
    "    new_transactiondate = []\n",
    "    for data in df['transactiondate']:\n",
    "        temp = data.split(\"-\")\n",
    "        new_transactiondate.append(int(temp[1])) # keep only month\n",
    "\n",
    "    new_transactiondate = np.array(new_transactiondate)\n",
    "    new_transactiondate = new_transactiondate.reshape(new_transactiondate.shape[0], 1)\n",
    "\n",
    "    df['transactiondate'] = new_transactiondate\n",
    "\n",
    "# return label index, feature index list\n",
    "# assumes that df label_is_first\n",
    "def split_on_label(df):\n",
    "    return df.columns[0], df.columns[1:]\n",
    "\n",
    "def gen_testdata(df, new_transactiondate):\n",
    "    df_copy = df.copy()\n",
    "    # df_copy['transactiondate'] = new_transactiondate\n",
    "    df_copy.insert(0, 'transactiondate', new_transactiondate)\n",
    "    return df_copy\n",
    "\n",
    "def get_low_var_feature(support_list):\n",
    "    low_var_feature_index = []\n",
    "    support_feature_index = []\n",
    "    for i in range(len(support_list)):\n",
    "        if support_list[i]:\n",
    "            support_feature_index.append(i)\n",
    "        else:\n",
    "            low_var_feature_index.append(i)\n",
    "    return low_var_feature_index, support_feature_index\n",
    "\n",
    "def handle_low_var(sel, train_data, feature_list):\n",
    "    temp_sel = sel.fit(train_data)\n",
    "    low_var_list, support_list = get_low_var_feature(sel.get_support())\n",
    "    \n",
    "    for i in low_var_list:\n",
    "        print(feature_list[i])\n",
    "    return temp_sel, support_list"
   ]
  },
  {
   "cell_type": "code",
   "execution_count": 4,
   "metadata": {},
   "outputs": [
    {
     "name": "stdout",
     "output_type": "stream",
     "text": [
      "[2016] num of features: 58\n",
      "[2016] num of instances: 90275\n",
      "[2017] num of features: 58\n",
      "[2017] num of instances: 77613\n"
     ]
    }
   ],
   "source": [
    "# read training data\n",
    "train_data16 = pd.read_csv(train_datapath_2016, index_col=0)\n",
    "train_data17 = pd.read_csv(train_datapath_2017, index_col=0)\n",
    "\n",
    "# drop parcelid (index of properties features)\n",
    "train_data16 = train_data16.drop('parcelid', axis=1)\n",
    "train_data17 = train_data17.drop('parcelid', axis=1)\n",
    "\n",
    "label16, feature16 = split_on_label(train_data16)\n",
    "label17, feature17 = split_on_label(train_data17)\n",
    "\n",
    "print(\"[2016] num of features:\", len(feature16))\n",
    "print(\"[2016] num of instances:\", train_data16.shape[0])\n",
    "\n",
    "print(\"[2017] num of features:\", len(feature17))\n",
    "print(\"[2017] num of instances:\", train_data17.shape[0])\n",
    "\n",
    "# modify 'transactiondate' to keep only the month\n",
    "parse_transactiondate(train_data16)\n",
    "parse_transactiondate(train_data17)\n",
    "\n",
    "# training data and label for model 2016\n",
    "X_train16 = train_data16[feature16]\n",
    "y_train16 = train_data16[label16]\n",
    "\n",
    "# training data and label for model 2017\n",
    "X_train17 = train_data17[feature17]\n",
    "y_train17 = train_data17[label17]"
   ]
  },
  {
   "cell_type": "code",
   "execution_count": 5,
   "metadata": {},
   "outputs": [
    {
     "name": "stdout",
     "output_type": "stream",
     "text": [
      "Low Var Features 2016:\n",
      "architecturalstyletypeid\n",
      "buildingclasstypeid\n",
      "decktypeid\n",
      "fireplacecnt\n",
      "hashottuborspa\n",
      "poolcnt\n",
      "pooltypeid10\n",
      "pooltypeid2\n",
      "pooltypeid7\n",
      "storytypeid\n",
      "threequarterbathnbr\n",
      "typeconstructiontypeid\n",
      "numberofstories\n",
      "fireplaceflag\n",
      "assessmentyear\n",
      "taxdelinquencyflag\n",
      "\n",
      "Low Var Features 2017:\n",
      "architecturalstyletypeid\n",
      "buildingclasstypeid\n",
      "decktypeid\n",
      "fireplacecnt\n",
      "hashottuborspa\n",
      "poolcnt\n",
      "pooltypeid10\n",
      "pooltypeid2\n",
      "pooltypeid7\n",
      "storytypeid\n",
      "threequarterbathnbr\n",
      "typeconstructiontypeid\n",
      "numberofstories\n",
      "fireplaceflag\n",
      "assessmentyear\n",
      "taxdelinquencyflag\n",
      "\n",
      "[2016] num of features: 42\n",
      "[2017] num of features: 42\n"
     ]
    }
   ],
   "source": [
    "# Removing Features with low variance\n",
    "# it should remove features with many missing values that were filled by imputation\n",
    "\n",
    "sel = VarianceThreshold(threshold=(.8 * (1 - .8)))\n",
    "\n",
    "print(\"Low Var Features 2016:\")\n",
    "sel16, support_list16 = handle_low_var(sel, X_train16, feature16)\n",
    "\n",
    "print(\"\\nLow Var Features 2017:\")\n",
    "sel17, support_list17 = handle_low_var(sel, X_train17, feature17)\n",
    "    \n",
    "new_X_train16 = sel16.transform(X_train16)\n",
    "new_X_train17 = sel17.transform(X_train17)\n",
    "\n",
    "assert(len(support_list16) == new_X_train16.shape[1]), \"Error: Invalid Size\"\n",
    "assert(len(support_list17) == new_X_train17.shape[1]), \"Error: Invalid Size\"\n",
    "\n",
    "new_feature16 = feature16[support_list16]\n",
    "new_feature17 = feature17[support_list17]\n",
    "\n",
    "print(\"\\n[2016] num of features:\", new_X_train16.shape[1])\n",
    "print(\"[2017] num of features:\", new_X_train17.shape[1])"
   ]
  },
  {
   "cell_type": "markdown",
   "metadata": {},
   "source": [
    "### Feauture Selection"
   ]
  },
  {
   "cell_type": "code",
   "execution_count": 56,
   "metadata": {},
   "outputs": [],
   "source": [
    "def handle_lightGBM_RFECV(X_train, y_train):\n",
    "    \n",
    "    params = {\"learning_rate\":0.01,\n",
    "              #'n_estimators':100,\n",
    "              #'num_leaves':100,\n",
    "              #'reg_alpha':0.01,\n",
    "              #'reg_lambda':0.01,\n",
    "              #'min_split_gain':0.1,\n",
    "              #'min_child_samples':100,\n",
    "              #'subsample':1.0,\n",
    "              #'subsample_for_bin':50000\n",
    "             }\n",
    "    bst = lgb.LGBMRegressor(n_jobs = -1, random_state = 42,silent = False,\n",
    "                            learning_rate = params['learning_rate'],\n",
    "                            #n_estimators = params['n_estimators'],\n",
    "                            #num_leaves = params['num_leaves'],\n",
    "                            #reg_alpha = params['reg_alpha'],\n",
    "                            #reg_lambda = params['reg_lambda'],\n",
    "                            #min_split_gain = params['min_split_gain'],\n",
    "                            #min_child_samples = params['min_child_samples'],\n",
    "                            #subsample = params['subsample'],\n",
    "                            #subsample_for_bin = params['subsample_for_bin'],\n",
    "                           )\n",
    "    # cross-validate on num of features selected using RFECV\n",
    "    # step parameter is number of features to remove at each step\n",
    "    selector = RFECV(bst, step=1, cv=5)\n",
    "    # selector = RFE(bst, 7, step=5)\n",
    "    selector = selector.fit(X_train, y_train)\n",
    "        \n",
    "    # selected feature index\n",
    "    feature = []\n",
    "    for j in range(len(selector.support_)):\n",
    "        if selector.support_[j]:\n",
    "            feature.append(j)\n",
    "\n",
    "    print(\"size of opt_feature from CV:\", selector.n_features_)\n",
    "\n",
    "    # obtain train MAE with CV'ed alpha value\n",
    "    bst = lgb.LGBMRegressor(n_jobs = -1, random_state = 42,silent = False,\n",
    "                            learning_rate = params['learning_rate'],\n",
    "                            #n_estimators = params['n_estimators'],\n",
    "                            #num_leaves = params['num_leaves'],\n",
    "                            #reg_alpha = params['reg_alpha'],\n",
    "                            #reg_lambda = params['reg_lambda'],\n",
    "                            #min_split_gain = params['min_split_gain'],\n",
    "                            #min_child_samples = params['min_child_samples'],\n",
    "                            #subsample = params['subsample'],\n",
    "                            #subsample_for_bin = params['subsample_for_bin']\n",
    "                           )\n",
    "    #bst.fit(X_train[:,feature], y_train)\n",
    "    #y_pred = bst.predict(X_train[:,feature])\n",
    "    #print(\"Train MAE: {:.6}\".format(mean_absolute_error(y_train, y_pred)))\n",
    "    \n",
    "    return bst,feature,selector"
   ]
  },
  {
   "cell_type": "code",
   "execution_count": 50,
   "metadata": {},
   "outputs": [
    {
     "name": "stdout",
     "output_type": "stream",
     "text": [
      "RFECV Model 2016:\n",
      "size of opt_feature from CV: 11\n",
      "Elasped time: 00:10:27\n"
     ]
    }
   ],
   "source": [
    "start_time = time.time()\n",
    "\n",
    "print(\"RFECV Model 2016:\")\n",
    "bst16, opt_feature, selector = handle_lightGBM_RFECV(X_train16, y_train16)\n",
    "\n",
    "elapsed_time = time.time() - start_time\n",
    "print(time.strftime(\"Elasped time: %H:%M:%S\", time.gmtime(elapsed_time)))"
   ]
  },
  {
   "cell_type": "code",
   "execution_count": 51,
   "metadata": {},
   "outputs": [
    {
     "name": "stdout",
     "output_type": "stream",
     "text": [
      "Train MAE: 0.067816\n"
     ]
    }
   ],
   "source": [
    "bst.fit(X_train16.iloc[:,opt_feature], y_train16)\n",
    "y_pred = bst.predict(X_train16.iloc[:,opt_feature])\n",
    "print(\"Train MAE: {:.6}\".format(mean_absolute_error(y_train16, y_pred)))"
   ]
  },
  {
   "cell_type": "code",
   "execution_count": 59,
   "metadata": {},
   "outputs": [
    {
     "data": {
      "text/plain": [
       "Index(['calculatedfinishedsquarefeet', 'finishedsquarefeet12', 'latitude',\n",
       "       'lotsizesquarefeet', 'propertyzoningdesc', 'regionidcity',\n",
       "       'regionidzip', 'yearbuilt', 'structuretaxvaluedollarcnt',\n",
       "       'taxvaluedollarcnt', 'taxamount'],\n",
       "      dtype='object')"
      ]
     },
     "execution_count": 59,
     "metadata": {},
     "output_type": "execute_result"
    }
   ],
   "source": [
    "X_train16_rfe = X_train16.iloc[:,opt_feature]\n",
    "X_train16_rfe.columns"
   ]
  },
  {
   "cell_type": "code",
   "execution_count": 45,
   "metadata": {},
   "outputs": [
    {
     "data": {
      "text/plain": [
       "array([ True, False, False, False, False, False, False, False, False,\n",
       "       False, False,  True,  True, False,  True, False, False, False,\n",
       "       False, False, False, False, False, False,  True, False,  True,\n",
       "       False, False, False, False, False,  True, False,  True, False,\n",
       "       False, False, False,  True, False, False, False, False, False,\n",
       "       False, False,  True, False, False,  True,  True, False,  True,\n",
       "        True, False,  True,  True])"
      ]
     },
     "execution_count": 45,
     "metadata": {},
     "output_type": "execute_result"
    }
   ],
   "source": [
    "selector.support_"
   ]
  },
  {
   "cell_type": "markdown",
   "metadata": {},
   "source": [
    "### Tunig Parameters"
   ]
  },
  {
   "cell_type": "code",
   "execution_count": 10,
   "metadata": {},
   "outputs": [],
   "source": [
    "def report(results, n_top=10):\n",
    "    for i in range(1, n_top + 1):\n",
    "        candidates = np.flatnonzero(results['rank_test_score'] == i)\n",
    "        for candidate in candidates:\n",
    "            print(\"Model with rank: {0}\".format(i))\n",
    "            print(\"Mean validation score: {0:.3f} (std: {1:.3f})\".format(\n",
    "                  results['mean_test_score'][candidate],\n",
    "                  results['std_test_score'][candidate]))\n",
    "            print(\"Parameters: {0}\".format(results['params'][candidate]))\n",
    "            print(\"\")"
   ]
  },
  {
   "cell_type": "code",
   "execution_count": 52,
   "metadata": {},
   "outputs": [],
   "source": [
    "def handle_lightgbm_GridCV(X, y, param_dict):\n",
    "    \n",
    "    # cross-validate on alpha (regularization strenght) from alphalist\n",
    "    \n",
    "    gbm = lgb.LGBMRegressor(n_jobs = -1, random_state = 42,silent = False)\n",
    "       \n",
    "    # cross-validate on random search CV\n",
    "    grid_search = GridSearchCV(gbm,param_grid=param_dict,\n",
    "                               cv=5, scoring='neg_mean_absolute_error')\n",
    "    \n",
    "    start = time.time()\n",
    "    grid_search.fit(X, y)\n",
    "    print(\"GridSearchCV took %.2f seconds\"\n",
    "          \" parameter settings.\" % (time.time() - start))\n",
    "\n",
    "    return grid_search"
   ]
  },
  {
   "cell_type": "code",
   "execution_count": 141,
   "metadata": {},
   "outputs": [
    {
     "name": "stdout",
     "output_type": "stream",
     "text": [
      "GridSearchCV took 14.57 seconds parameter settings.\n"
     ]
    }
   ],
   "source": [
    "params_dict = {\n",
    "    \"learning_rate\":[0.01],\n",
    "    'num_leaves':[75],\n",
    "    'max_depth':[-1],\n",
    "    'n_eatimators':[512],\n",
    "    'reg_alpha':[0.2],\n",
    "    'reg_lambda':[100],\n",
    "    'min_split_gain':[0.1],\n",
    "    'min_child_samples':[10],\n",
    "    'colsample_bytree':[1.0],\n",
    "    \n",
    "    'min_child_weight':[0.001],\n",
    "    'subsample':[0.8],\n",
    "    'subsample_for_bin':[50000],\n",
    "    'subsample_freq':[1], \n",
    "    'n_eatimators':[512]\n",
    "}\n",
    "grid_result = handle_lightgbm_GridCV(X_train16_rfe, y_train16, params_dict)"
   ]
  },
  {
   "cell_type": "code",
   "execution_count": 144,
   "metadata": {},
   "outputs": [
    {
     "name": "stderr",
     "output_type": "stream",
     "text": [
      "/Users/apple/venv/lib/python3.6/site-packages/sklearn/model_selection/_search.py:761: DeprecationWarning: The grid_scores_ attribute was deprecated in version 0.18 in favor of the more elaborate cv_results_ attribute. The grid_scores_ attribute will not be available from 0.20\n",
      "  DeprecationWarning)\n"
     ]
    },
    {
     "data": {
      "text/plain": [
       "[mean: -0.06808, std: 0.00295, params: {'colsample_bytree': 1.0, 'learning_rate': 0.01, 'max_depth': -1, 'min_child_samples': 10, 'min_child_weight': 0.001, 'min_split_gain': 0.1, 'n_eatimators': 512, 'num_leaves': 75, 'reg_alpha': 0.2, 'reg_lambda': 100, 'subsample': 0.8, 'subsample_for_bin': 50000, 'subsample_freq': 1}]"
      ]
     },
     "execution_count": 144,
     "metadata": {},
     "output_type": "execute_result"
    }
   ],
   "source": [
    "grid_result.grid_scores_"
   ]
  },
  {
   "cell_type": "markdown",
   "metadata": {},
   "source": [
    "### Learning curve"
   ]
  },
  {
   "cell_type": "code",
   "execution_count": 8,
   "metadata": {},
   "outputs": [
    {
     "name": "stderr",
     "output_type": "stream",
     "text": [
      "/Users/apple/venv/lib/python3.6/site-packages/sklearn/cross_validation.py:41: DeprecationWarning: This module was deprecated in version 0.18 in favor of the model_selection module into which all the refactored classes and functions are moved. Also note that the interface of the new CV iterators are different from that of this module. This module will be removed in 0.20.\n",
      "  \"This module will be removed in 0.20.\", DeprecationWarning)\n",
      "/Users/apple/venv/lib/python3.6/site-packages/sklearn/learning_curve.py:22: DeprecationWarning: This module was deprecated in version 0.18 in favor of the model_selection module into which all the functions are moved. This module will be removed in 0.20\n",
      "  DeprecationWarning)\n"
     ]
    }
   ],
   "source": [
    "import numpy as np\n",
    "import matplotlib.pyplot as plt\n",
    "from sklearn.learning_curve import learning_curve\n",
    "def plot_learning_curve(estimator, X, y, ylim=None, cv=None, train_sizes=np.linspace(.05, 1., 20), verbose=0, plot=True):\n",
    "    \n",
    "    train_sizes, train_scores, test_scores = learning_curve(\n",
    "            estimator, X, y, cv=cv, train_sizes=train_sizes, scoring = 'neg_mean_absolute_error',verbose=verbose)\n",
    "\n",
    "    train_scores_mean = np.mean(train_scores, axis=1)\n",
    "    train_scores_std = np.std(train_scores, axis=1)\n",
    "    test_scores_mean = np.mean(test_scores, axis=1)\n",
    "    test_scores_std = np.std(test_scores, axis=1)\n",
    "\n",
    "    if plot:\n",
    "        plt.figure()\n",
    "        if ylim is not None:\n",
    "            plt.ylim(*ylim)\n",
    "        plt.xlabel(u\"number of samples\")\n",
    "        plt.ylabel(u\"score\")\n",
    "        plt.gca().invert_yaxis()\n",
    "        plt.grid()\n",
    "        plt.fill_between(train_sizes, train_scores_mean - train_scores_std, train_scores_mean + train_scores_std, \n",
    "                         alpha=0.1, color=\"b\")\n",
    "        plt.fill_between(train_sizes, test_scores_mean - test_scores_std, test_scores_mean + test_scores_std, \n",
    "                         alpha=0.1, color=\"r\")\n",
    "        plt.plot(train_sizes, train_scores_mean, 'o-', color=\"b\", label=u\"training set score\")\n",
    "        plt.plot(train_sizes, test_scores_mean, 'o-', color=\"r\", label=u\"validation set score\")\n",
    "\n",
    "        plt.legend(loc=\"best\")\n",
    "\n",
    "        plt.draw()\n",
    "        plt.show()\n",
    "        plt.gca().invert_yaxis()\n",
    "\n",
    "    midpoint = ((train_scores_mean[-1] + train_scores_std[-1]) + (test_scores_mean[-1] - test_scores_std[-1])) / 2\n",
    "    diff = (train_scores_mean[-1] + train_scores_std[-1]) - (test_scores_mean[-1] - test_scores_std[-1])\n",
    "    return midpoint, diff"
   ]
  },
  {
   "cell_type": "code",
   "execution_count": 12,
   "metadata": {},
   "outputs": [
    {
     "data": {
      "image/png": "[encoded data removed]",
      "text/plain": [
       "<Figure size 432x288 with 1 Axes>"
      ]
     },
     "metadata": {},
     "output_type": "display_data"
    },
    {
     "data": {
      "image/png": "[encoded data removed]",
      "text/plain": [
       "<Figure size 432x288 with 1 Axes>"
      ]
     },
     "metadata": {},
     "output_type": "display_data"
    }
   ],
   "source": [
    "params = {\"learning_rate\":0.004,\n",
    "          'n_estimators':100,\n",
    "          'num_leaves':1000,\n",
    "          'reg_alpha':0.01,\n",
    "          'reg_lambda':0.01,\n",
    "          'min_split_gain':0.1,\n",
    "          'min_child_samples':100,\n",
    "          'subsample':1.0,\n",
    "          'subsample_for_bin':50000\n",
    "         }\n",
    "bst = lgb.LGBMRegressor(n_jobs = -1, random_state = 42,silent = False,\n",
    "                            learning_rate = params['learning_rate'],\n",
    "                            n_estimators = params['n_estimators'],\n",
    "                            num_leaves = params['num_leaves'],\n",
    "                            reg_alpha = params['reg_alpha'],\n",
    "                            reg_lambda = params['reg_lambda'],\n",
    "                            min_split_gain = params['min_split_gain'],\n",
    "                            min_child_samples = params['min_child_samples'],\n",
    "                            subsample = params['subsample'],\n",
    "                            subsample_for_bin = params['subsample_for_bin'],\n",
    "                           )\n",
    "_,_ = plot_learning_curve(bst, X_train16, y_train16, cv = 10)"
   ]
  },
  {
   "cell_type": "markdown",
   "metadata": {},
   "source": [
    "### Train and Test on best model"
   ]
  },
  {
   "cell_type": "code",
   "execution_count": 127,
   "metadata": {},
   "outputs": [
    {
     "name": "stdout",
     "output_type": "stream",
     "text": [
      "(2985217, 42)\n"
     ]
    }
   ],
   "source": [
    "X_test10_16 = X_test10_16.iloc[:,support_list16]\n",
    "X_test11_16 = X_test11_16.iloc[:,support_list16]\n",
    "X_test12_16 = X_test12_16.iloc[:,support_list16]\n",
    "\n",
    "X_test10_17 = X_test10_17.iloc[:,support_list17]\n",
    "X_test11_17 = X_test11_17.iloc[:,support_list17]\n",
    "X_test12_17 = X_test12_17.iloc[:,support_list17]\n",
    "print(X_test10_16.shape)"
   ]
  },
  {
   "cell_type": "code",
   "execution_count": 111,
   "metadata": {},
   "outputs": [
    {
     "name": "stderr",
     "output_type": "stream",
     "text": [
      "/Users/apple/venv/lib/python3.6/site-packages/numpy/lib/arraysetops.py:472: FutureWarning: elementwise comparison failed; returning scalar instead, but in the future will perform elementwise comparison\n",
      "  mask |= (ar1 == a)\n"
     ]
    },
    {
     "name": "stdout",
     "output_type": "stream",
     "text": [
      "[2016] num of instances:  2985217\n",
      "[2017] num of instances:  2985217\n"
     ]
    }
   ],
   "source": [
    "# read in test\n",
    "test_data2016 = pd.read_csv(test_datapath_2016, index_col=0)\n",
    "test_data2017 = pd.read_csv(test_datapath_2017, index_col=0)\n",
    "\n",
    "print(\"[2016] num of instances: \", test_data2016.shape[0])\n",
    "print(\"[2017] num of instances: \", test_data2017.shape[0])\n",
    "\n",
    "# save parcelid for merge \n",
    "test_parcelid16 = test_data2016['parcelid']\n",
    "test_parcelid17 = test_data2017['parcelid']\n",
    "\n",
    "# drop parcelid col\n",
    "test_data2016 = test_data2016.drop('parcelid', axis=1)\n",
    "test_data2017 = test_data2017.drop('parcelid', axis=1)\n",
    "\n",
    "# generate transaction date\n",
    "test10_16 = np.repeat(10, test_data2016.shape[0])\n",
    "test11_16 = np.repeat(11, test_data2016.shape[0])\n",
    "test12_16 = np.repeat(12, test_data2016.shape[0])\n",
    "\n",
    "test10_17 = np.repeat(10, test_data2017.shape[0])\n",
    "test11_17 = np.repeat(11, test_data2017.shape[0])\n",
    "test12_17 = np.repeat(12, test_data2017.shape[0])\n",
    "\n",
    "# get new test data with transaction date\n",
    "X_test10_16 = gen_testdata(test_data2016, test10_16)\n",
    "X_test11_16 = gen_testdata(test_data2016, test11_16)\n",
    "X_test12_16 = gen_testdata(test_data2016, test12_16)\n",
    "\n",
    "X_test10_17 = gen_testdata(test_data2017, test10_17)\n",
    "X_test11_17 = gen_testdata(test_data2017, test11_17)\n",
    "X_test12_17 = gen_testdata(test_data2017, test12_17)"
   ]
  },
  {
   "cell_type": "code",
   "execution_count": 128,
   "metadata": {},
   "outputs": [],
   "source": [
    "def train_and_test(X_train,y_train,X_test, params):\n",
    "    \n",
    "    bst = lgb.LGBMRegressor(n_jobs = -1, random_state = 42,silent = False,\n",
    "                            learning_rate = params['learning_rate'],\n",
    "                            n_estimators = params['n_estimators'],\n",
    "                            num_leaves = params['num_leaves'],\n",
    "                            reg_alpha = params['reg_alpha'],\n",
    "                            reg_lambda = params['reg_lambda'],\n",
    "                            min_split_gain = params['min_split_gain'],\n",
    "                            min_child_samples = params['min_child_samples'],\n",
    "                            subsample = params['subsample'],\n",
    "                            subsample_for_bin = params['subsample_for_bin']\n",
    "                           )\n",
    "    bst.fit(X_train, y_train)\n",
    "    y_pred = bst.predict(X_test)\n",
    "    \n",
    "    return y_pred"
   ]
  },
  {
   "cell_type": "code",
   "execution_count": 129,
   "metadata": {},
   "outputs": [],
   "source": [
    "best_params_16 = {\"learning_rate\":0.04,\n",
    "                  'n_estimators':100,\n",
    "                  'num_leaves':2,\n",
    "                  'reg_alpha':0.01,\n",
    "                  'reg_lambda':0.01,\n",
    "                  'min_split_gain':0.1,\n",
    "                  'min_child_samples':100,\n",
    "                  'subsample':1.0,\n",
    "                  'subsample_for_bin':50000\n",
    "                 }\n",
    "y_pred10_16 = train_and_test(new_X_train16, y_train16, X_test10_16.values,best_params_16)\n",
    "y_pred11_16 = train_and_test(new_X_train16, y_train16, X_test11_16.values,best_params_16)\n",
    "y_pred12_16 = train_and_test(new_X_train16, y_train16, X_test12_16.values,best_params_16)\n",
    "\n",
    "best_params_17 = {\"learning_rate\":0.004,\n",
    "                  'n_estimators':100,\n",
    "                  'num_leaves':50,\n",
    "                  'reg_alpha':3.7,\n",
    "                  'reg_lambda':20,\n",
    "                  'min_split_gain':0.1,\n",
    "                  'min_child_samples':300,\n",
    "                  'subsample':1.0,\n",
    "                  'subsample_for_bin':50000\n",
    "                  }\n",
    "y_pred10_17 = train_and_test(new_X_train17, y_train17, X_test10_17.values,best_params_17)\n",
    "y_pred11_17 = train_and_test(new_X_train17, y_train17, X_test11_17.values,best_params_17)\n",
    "y_pred12_17 = train_and_test(new_X_train17, y_train17, X_test12_17.values,best_params_17)"
   ]
  },
  {
   "cell_type": "code",
   "execution_count": 130,
   "metadata": {},
   "outputs": [
    {
     "name": "stdout",
     "output_type": "stream",
     "text": [
      "          Parcelid    201610    201611    201612    201710    201711    201712\n",
      "0         10754147  0.007585  0.007585  0.007585  0.023506  0.023506  0.023506\n",
      "1         10759547  0.007585  0.007585  0.007585  0.023233  0.023233  0.023233\n",
      "2         10843547  0.020302  0.020302  0.020302  0.013183  0.013183  0.013183\n",
      "3         10859147  0.011786  0.011786  0.011786  0.012781  0.012781  0.012781\n",
      "4         10879947  0.007585  0.007585  0.007585  0.014752  0.014752  0.014752\n",
      "5         10898347  0.008035  0.008035  0.008035  0.015832  0.015832  0.015832\n",
      "6         10933547  0.006302  0.006302  0.006302  0.015576  0.015576  0.015576\n",
      "7         10940747  0.011030  0.011030  0.011030  0.014005  0.014005  0.014005\n",
      "8         10954547  0.007585  0.007585  0.007585  0.023506  0.023506  0.023506\n",
      "9         10976347  0.011030  0.011030  0.011030  0.014474  0.014474  0.014474\n",
      "10        11073947  0.007585  0.007585  0.007585  0.013913  0.013913  0.013913\n",
      "11        11114347  0.007585  0.007585  0.007585  0.021266  0.021266  0.021266\n",
      "12        11116947  0.007585  0.007585  0.007585  0.013849  0.013849  0.013849\n",
      "13        11142747  0.007585  0.007585  0.007585  0.021266  0.021266  0.021266\n",
      "14        11193347  0.007585  0.007585  0.007585  0.021665  0.021665  0.021665\n",
      "15        11215747  0.007585  0.007585  0.007585  0.021665  0.021665  0.021665\n",
      "16        11229347  0.023562  0.023562  0.023562  0.035568  0.035568  0.035568\n",
      "17        11287347  0.014027  0.014027  0.014027  0.020835  0.020835  0.020835\n",
      "18        11288547  0.023907  0.023907  0.023907  0.018473  0.018473  0.018473\n",
      "19        11324547  0.023152  0.023152  0.023152  0.019684  0.019684  0.019684\n",
      "20        11391347  0.010503  0.010503  0.010503  0.012919  0.012919  0.012919\n",
      "21        11395747  0.021197  0.021197  0.021197  0.015037  0.015037  0.015037\n",
      "22        11404347  0.009957  0.009957  0.009957  0.014236  0.014236  0.014236\n",
      "23        11405747  0.007805  0.007805  0.007805  0.015159  0.015159  0.015159\n",
      "24        11417147  0.008035  0.008035  0.008035  0.015159  0.015159  0.015159\n",
      "25        11457547  0.006302  0.006302  0.006302  0.012337  0.012337  0.012337\n",
      "26        11488147  0.007585  0.007585  0.007585  0.013367  0.013367  0.013367\n",
      "27        11520747  0.020302  0.020302  0.020302  0.012644  0.012644  0.012644\n",
      "28        11524947  0.005083  0.005083  0.005083  0.012919  0.012919  0.012919\n",
      "29        11544747  0.006072  0.006072  0.006072  0.006136  0.006136  0.006136\n",
      "...            ...       ...       ...       ...       ...       ...       ...\n",
      "2985187  167636430  0.007585  0.007585  0.007585  0.015892  0.015892  0.015892\n",
      "2985188  167690630  0.007585  0.007585  0.007585  0.015031  0.015031  0.015031\n",
      "2985189  167636630  0.007585  0.007585  0.007585  0.015892  0.015892  0.015892\n",
      "2985190   10834030  0.007585  0.007585  0.007585  0.020109  0.020109  0.020109\n",
      "2985191  167637430  0.007585  0.007585  0.007585  0.012234  0.012234  0.012234\n",
      "2985192  167637630  0.007585  0.007585  0.007585  0.018175  0.018175  0.018175\n",
      "2985193  167637230  0.007585  0.007585  0.007585  0.016481  0.016481  0.016481\n",
      "2985194   11645030  0.007585  0.007585  0.007585  0.015495  0.015495  0.015495\n",
      "2985195  167689030  0.007585  0.007585  0.007585  0.014062  0.014062  0.014062\n",
      "2985196  167638630  0.007585  0.007585  0.007585  0.015832  0.015832  0.015832\n",
      "2985197  167638430  0.007585  0.007585  0.007585  0.016537  0.016537  0.016537\n",
      "2985198   14342030  0.007585  0.007585  0.007585  0.040398  0.040398  0.040398\n",
      "2985199  167638230  0.007585  0.007585  0.007585  0.028100  0.028100  0.028100\n",
      "2985200  167637830  0.007585  0.007585  0.007585  0.018764  0.018764  0.018764\n",
      "2985201  167639230  0.007585  0.007585  0.007585  0.020787  0.020787  0.020787\n",
      "2985202   14341030  0.007585  0.007585  0.007585  0.027051  0.027051  0.027051\n",
      "2985203   14341630  0.007585  0.007585  0.007585  0.039504  0.039504  0.039504\n",
      "2985204   14367630  0.007585  0.007585  0.007585  0.026443  0.026443  0.026443\n",
      "2985205  167638830  0.007585  0.007585  0.007585  0.010869  0.010869  0.010869\n",
      "2985206   12572230  0.007585  0.007585  0.007585  0.021452  0.021452  0.021452\n",
      "2985207   14460030  0.007585  0.007585  0.007585  0.020989  0.020989  0.020989\n",
      "2985208   14284830  0.007585  0.007585  0.007585  0.018925  0.018925  0.018925\n",
      "2985209   14285230  0.007585  0.007585  0.007585  0.031829  0.031829  0.031829\n",
      "2985210   14455630  0.007585  0.007585  0.007585  0.038431  0.038431  0.038431\n",
      "2985211   11117630  0.007585  0.007585  0.007585  0.019991  0.019991  0.019991\n",
      "2985212  168176230  0.007585  0.007585  0.007585  0.020447  0.020447  0.020447\n",
      "2985213   14273630  0.007585  0.007585  0.007585  0.025974  0.025974  0.025974\n",
      "2985214  168040630  0.007585  0.007585  0.007585  0.013404  0.013404  0.013404\n",
      "2985215  168040830  0.007585  0.007585  0.007585  0.022543  0.022543  0.022543\n",
      "2985216  168040430  0.007585  0.007585  0.007585  0.012972  0.012972  0.012972\n",
      "\n",
      "[2985217 rows x 7 columns]\n",
      "2985217 7\n"
     ]
    },
    {
     "ename": "FileNotFoundError",
     "evalue": "[Errno 2] No such file or directory: './zillow-data/draft_submission4.csv'",
     "output_type": "error",
     "traceback": [
      "\u001b[0;31m---------------------------------------------------------------------------\u001b[0m",
      "\u001b[0;31mFileNotFoundError\u001b[0m                         Traceback (most recent call last)",
      "\u001b[0;32m<ipython-input-130-a6077abe4444>\u001b[0m in \u001b[0;36m<module>\u001b[0;34m()\u001b[0m\n\u001b[1;32m     17\u001b[0m \u001b[0;34m\u001b[0m\u001b[0m\n\u001b[1;32m     18\u001b[0m \u001b[0;32massert\u001b[0m\u001b[0;34m(\u001b[0m\u001b[0msubmit_df\u001b[0m\u001b[0;34m.\u001b[0m\u001b[0mshape\u001b[0m\u001b[0;34m[\u001b[0m\u001b[0;36m0\u001b[0m\u001b[0;34m]\u001b[0m \u001b[0;34m==\u001b[0m \u001b[0mdf_merged\u001b[0m\u001b[0;34m.\u001b[0m\u001b[0mshape\u001b[0m\u001b[0;34m[\u001b[0m\u001b[0;36m0\u001b[0m\u001b[0;34m]\u001b[0m\u001b[0;34m)\u001b[0m\u001b[0;34m,\u001b[0m \u001b[0;34m\"Error: invalid row size for submit!\"\u001b[0m\u001b[0;34m\u001b[0m\u001b[0m\n\u001b[0;32m---> 19\u001b[0;31m \u001b[0mdf_merged\u001b[0m\u001b[0;34m.\u001b[0m\u001b[0mto_csv\u001b[0m\u001b[0;34m(\u001b[0m\u001b[0;34m\"./zillow-data/draft_submission4.csv\"\u001b[0m\u001b[0;34m,\u001b[0m \u001b[0mindex\u001b[0m\u001b[0;34m=\u001b[0m\u001b[0;32mFalse\u001b[0m\u001b[0;34m)\u001b[0m\u001b[0;34m\u001b[0m\u001b[0m\n\u001b[0m",
      "\u001b[0;32m~/venv/lib/python3.6/site-packages/pandas/core/frame.py\u001b[0m in \u001b[0;36mto_csv\u001b[0;34m(self, path_or_buf, sep, na_rep, float_format, columns, header, index, index_label, mode, encoding, compression, quoting, quotechar, line_terminator, chunksize, tupleize_cols, date_format, doublequote, escapechar, decimal)\u001b[0m\n\u001b[1;32m   1743\u001b[0m                                  \u001b[0mdoublequote\u001b[0m\u001b[0;34m=\u001b[0m\u001b[0mdoublequote\u001b[0m\u001b[0;34m,\u001b[0m\u001b[0;34m\u001b[0m\u001b[0m\n\u001b[1;32m   1744\u001b[0m                                  escapechar=escapechar, decimal=decimal)\n\u001b[0;32m-> 1745\u001b[0;31m         \u001b[0mformatter\u001b[0m\u001b[0;34m.\u001b[0m\u001b[0msave\u001b[0m\u001b[0;34m(\u001b[0m\u001b[0;34m)\u001b[0m\u001b[0;34m\u001b[0m\u001b[0m\n\u001b[0m\u001b[1;32m   1746\u001b[0m \u001b[0;34m\u001b[0m\u001b[0m\n\u001b[1;32m   1747\u001b[0m         \u001b[0;32mif\u001b[0m \u001b[0mpath_or_buf\u001b[0m \u001b[0;32mis\u001b[0m \u001b[0;32mNone\u001b[0m\u001b[0;34m:\u001b[0m\u001b[0;34m\u001b[0m\u001b[0m\n",
      "\u001b[0;32m~/venv/lib/python3.6/site-packages/pandas/io/formats/csvs.py\u001b[0m in \u001b[0;36msave\u001b[0;34m(self)\u001b[0m\n\u001b[1;32m    154\u001b[0m             f, handles = _get_handle(self.path_or_buf, self.mode,\n\u001b[1;32m    155\u001b[0m                                      \u001b[0mencoding\u001b[0m\u001b[0;34m=\u001b[0m\u001b[0mencoding\u001b[0m\u001b[0;34m,\u001b[0m\u001b[0;34m\u001b[0m\u001b[0m\n\u001b[0;32m--> 156\u001b[0;31m                                      compression=self.compression)\n\u001b[0m\u001b[1;32m    157\u001b[0m             \u001b[0mclose\u001b[0m \u001b[0;34m=\u001b[0m \u001b[0;32mTrue\u001b[0m\u001b[0;34m\u001b[0m\u001b[0m\n\u001b[1;32m    158\u001b[0m \u001b[0;34m\u001b[0m\u001b[0m\n",
      "\u001b[0;32m~/venv/lib/python3.6/site-packages/pandas/io/common.py\u001b[0m in \u001b[0;36m_get_handle\u001b[0;34m(path_or_buf, mode, encoding, compression, memory_map, is_text)\u001b[0m\n\u001b[1;32m    398\u001b[0m         \u001b[0;32melif\u001b[0m \u001b[0mencoding\u001b[0m\u001b[0;34m:\u001b[0m\u001b[0;34m\u001b[0m\u001b[0m\n\u001b[1;32m    399\u001b[0m             \u001b[0;31m# Python 3 and encoding\u001b[0m\u001b[0;34m\u001b[0m\u001b[0;34m\u001b[0m\u001b[0m\n\u001b[0;32m--> 400\u001b[0;31m             \u001b[0mf\u001b[0m \u001b[0;34m=\u001b[0m \u001b[0mopen\u001b[0m\u001b[0;34m(\u001b[0m\u001b[0mpath_or_buf\u001b[0m\u001b[0;34m,\u001b[0m \u001b[0mmode\u001b[0m\u001b[0;34m,\u001b[0m \u001b[0mencoding\u001b[0m\u001b[0;34m=\u001b[0m\u001b[0mencoding\u001b[0m\u001b[0;34m)\u001b[0m\u001b[0;34m\u001b[0m\u001b[0m\n\u001b[0m\u001b[1;32m    401\u001b[0m         \u001b[0;32melif\u001b[0m \u001b[0mis_text\u001b[0m\u001b[0;34m:\u001b[0m\u001b[0;34m\u001b[0m\u001b[0m\n\u001b[1;32m    402\u001b[0m             \u001b[0;31m# Python 3 and no explicit encoding\u001b[0m\u001b[0;34m\u001b[0m\u001b[0;34m\u001b[0m\u001b[0m\n",
      "\u001b[0;31mFileNotFoundError\u001b[0m: [Errno 2] No such file or directory: './zillow-data/draft_submission4.csv'"
     ]
    }
   ],
   "source": [
    "# merged on Parcelid for predicted result on test data\n",
    "\n",
    "test_dict_16 = {'Parcelid': test_parcelid16, '201610': y_pred10_16, '201611': y_pred11_16, '201612': y_pred12_16}\n",
    "test_dict_17 = {'Parcelid': test_parcelid17, '201710': y_pred10_17, '201711': y_pred11_17, '201712': y_pred12_17}\n",
    "\n",
    "df_test_16 = pd.DataFrame(data=test_dict_16)\n",
    "df_test_17 = pd.DataFrame(data=test_dict_17)\n",
    "\n",
    "df_merged = df_test_16.merge(df_test_17, left_on='Parcelid', right_on='Parcelid', how='outer')\n",
    "print(df_merged)\n",
    "\n",
    "# handle submission file\n",
    "submitfile = \"./zillow data/sample_submission.csv\"\n",
    "\n",
    "submit_df = pd.read_csv(submitfile)\n",
    "print(submit_df.shape[0], submit_df.shape[1])\n",
    "\n",
    "assert(submit_df.shape[0] == df_merged.shape[0]), \"Error: invalid row size for submit!\"\n",
    "df_merged.to_csv(\"./zillow data/draft_submission4.csv\", index=False)"
   ]
  },
  {
   "cell_type": "code",
   "execution_count": 131,
   "metadata": {},
   "outputs": [],
   "source": [
    "df_merged.to_csv(\"./zillow data/draft_submission4.csv\", index=False)"
   ]
  }
 ],
 "metadata": {
  "kernelspec": {
   "display_name": "Python 3",
   "language": "python",
   "name": "python3"
  },
  "language_info": {
   "codemirror_mode": {
    "name": "ipython",
    "version": 3
   },
   "file_extension": ".py",
   "mimetype": "text/x-python",
   "name": "python",
   "nbconvert_exporter": "python",
   "pygments_lexer": "ipython3",
   "version": "3.6.5"
  }
 },
 "nbformat": 4,
 "nbformat_minor": 2
}
