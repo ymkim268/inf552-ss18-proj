{
 "cells": [
  {
   "cell_type": "code",
   "execution_count": 41,
   "metadata": {},
   "outputs": [],
   "source": [
    "import numpy as np\n",
    "import pandas as pd\n",
    "\n",
    "from sklearn import linear_model\n",
    "from sklearn.metrics import mean_squared_error, r2_score"
   ]
  },
  {
   "cell_type": "code",
   "execution_count": 36,
   "metadata": {},
   "outputs": [
    {
     "name": "stdout",
     "output_type": "stream",
     "text": [
      "num of features: 31\n",
      "num of instances: 90275\n"
     ]
    }
   ],
   "source": [
    "datapath = \"./zillow-data/merged_new2016.csv\"\n",
    "\n",
    "train_data2016 = pd.read_csv(datapath, index_col=0)\n",
    "\n",
    "# fix Unamed: 0 at col index 3\n",
    "fix_col = train_data2016.columns.str.contains('unnamed',case = False)\n",
    "train_data2016 = train_data2016.drop(train_data2016.columns[fix_col], axis=1)\n",
    "\n",
    "# drop parcelid (index of properties features)\n",
    "train_data2016 = train_data2016.drop('parcelid', axis=1)\n",
    "\n",
    "label = train_data2016.columns[0]\n",
    "feature = train_data2016.columns[1:]\n",
    "\n",
    "print(\"num of features:\", len(feature))\n",
    "print(\"num of instances:\", train_data2016.shape[0])\n",
    "\n",
    "# modify transactiondate col to keep only the month\n",
    "new_transactiondate = []\n",
    "for data in train_data2016['transactiondate']:\n",
    "    temp = data.split(\"-\")\n",
    "    new_transactiondate.append(int(temp[1])) # keep only month\n",
    "\n",
    "new_transactiondate = np.array(new_transactiondate)\n",
    "new_transactiondate = new_transactiondate.reshape(new_transactiondate.shape[0], 1)\n",
    "\n",
    "train_data2016['transactiondate'] = new_transactiondate\n",
    "\n",
    "# training data and label for model \n",
    "X_train = train_data2016[feature]\n",
    "y_train = train_data2016[label]"
   ]
  },
  {
   "cell_type": "code",
   "execution_count": 64,
   "metadata": {},
   "outputs": [
    {
     "name": "stdout",
     "output_type": "stream",
     "text": [
      "Ridge Regression\n",
      "RidgeCV alpha(lambda):0.10\n",
      "Training MSE: 0.025865\n",
      "Training R^2: 0.003140\n"
     ]
    }
   ],
   "source": [
    "# Ridge Regression\n",
    "regrRidge = linear_model.RidgeCV(alphas=(0.1, 1.0, 10.0), normalize=True, cv=10, \n",
    "                                 scoring='neg_mean_squared_error')\n",
    "regrRidge.fit(X_train, y_train)\n",
    "y_pred = regrRidge.predict(X_train)\n",
    "\n",
    "print(\"Ridge Regression\")\n",
    "print(\"RidgeCV alpha(lambda):{:.2f}\".format(regrRidge.alpha_))\n",
    "print(\"Training MSE: {:.6f}\".format(mean_squared_error(y_train, y_pred)))\n",
    "print(\"Training R^2: {:.6f}\".format(r2_score(y_train, y_pred)))\n",
    "\n"
   ]
  },
  {
   "cell_type": "code",
   "execution_count": 69,
   "metadata": {},
   "outputs": [
    {
     "name": "stdout",
     "output_type": "stream",
     "text": [
      "Lasso Regression\n",
      "LassoCV alpha(lambda): 0.000002\n",
      "Mean squared error: 0.025873\n",
      "R^2: 0.002827\n",
      "\n",
      "Selected Features[13]:\n",
      "transactiondate\n",
      "calculatedfinishedsquarefeet\n",
      "heatingorsystemtypeid\n",
      "propertylandusetypeid\n",
      "regionidzip\n",
      "yearbuilt\n",
      "landtaxvaluedollarcnt\n",
      "censustractandblock\n",
      "haspoolornot\n",
      "regionidneighborhood\n",
      "unitcnt\n",
      "lotsizesquarefeet\n",
      "finishedfloor1squarefeet\n"
     ]
    }
   ],
   "source": [
    "# LASSO\n",
    "regrLasso = linear_model.LassoCV(eps=0.001, n_alphas=100, normalize=True, cv=10, max_iter=50000)\n",
    "regrLasso.fit(X_train, y_train)\n",
    "y_pred = regrLasso.predict(X_train)\n",
    "\n",
    "print(\"Lasso Regression\")\n",
    "print(\"LassoCV alpha(lambda): {:.6f}\".format(regrLasso.alpha_))\n",
    "print(\"Mean squared error: {:.6f}\".format(mean_squared_error(y_train, y_pred)))\n",
    "print(\"R^2: {:.6f}\".format(r2_score(y_train, y_pred)))\n",
    "\n",
    "\n",
    "# return feature given the coef values from model\n",
    "def get_reduced_features(coef, features):\n",
    "    sel_features = []\n",
    "    for i in range(len(coef)):\n",
    "        if coef[i] != 0:\n",
    "            sel_features.append(features[i])\n",
    "    return sel_features\n",
    "\n",
    "sel_features = get_reduced_features(regrLasso.coef_, feature)\n",
    "print(\"\\nSelected Features[{}]:\".format(len(sel_features)))\n",
    "for i in sel_features:\n",
    "    print(i)"
   ]
  },
  {
   "cell_type": "code",
   "execution_count": null,
   "metadata": {},
   "outputs": [],
   "source": []
  },
  {
   "cell_type": "code",
   "execution_count": null,
   "metadata": {},
   "outputs": [],
   "source": []
  }
 ],
 "metadata": {
  "kernelspec": {
   "display_name": "Python 3",
   "language": "python",
   "name": "python3"
  },
  "language_info": {
   "codemirror_mode": {
    "name": "ipython",
    "version": 3
   },
   "file_extension": ".py",
   "mimetype": "text/x-python",
   "name": "python",
   "nbconvert_exporter": "python",
   "pygments_lexer": "ipython3",
   "version": "3.6.4"
  }
 },
 "nbformat": 4,
 "nbformat_minor": 2
}
